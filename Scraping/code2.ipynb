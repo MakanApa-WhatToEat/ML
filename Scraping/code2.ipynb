{
 "cells": [
  {
   "attachments": {},
   "cell_type": "markdown",
   "metadata": {},
   "source": [
    "IMPORT LIBRARY"
   ]
  },
  {
   "cell_type": "code",
   "execution_count": 12,
   "metadata": {},
   "outputs": [],
   "source": [
    "import requests, re, json, lxml\n",
    "from bs4 import BeautifulSoup"
   ]
  },
  {
   "attachments": {},
   "cell_type": "markdown",
   "metadata": {},
   "source": [
    "PARAMETER PENCARIAN"
   ]
  },
  {
   "cell_type": "code",
   "execution_count": 13,
   "metadata": {},
   "outputs": [],
   "source": [
    "headers = {\n",
    "    \"User-Agent\": \"Mozilla/5.0 (Windows NT 10.0; Win64; x64) AppleWebKit/537.36 (KHTML, like Gecko) Chrome/100.0.4896.60 Safari/537.36\",\n",
    "  }\n",
    "\n",
    "params = {\n",
    "    \"q\": \"daging ayam\",              # search query\n",
    "    \"tbm\": \"isch\",                # image results\n",
    "    \"hl\": \"id\",                   # language of the search\n",
    "    \"gl\": \"id\",                   # country where search comes fro\n",
    "  }"
   ]
  },
  {
   "attachments": {},
   "cell_type": "markdown",
   "metadata": {},
   "source": [
    "SEARCH "
   ]
  },
  {
   "cell_type": "code",
   "execution_count": 14,
   "metadata": {},
   "outputs": [],
   "source": [
    "html = requests.get(\"https://google.com/search\", params=params, headers=headers, timeout=30)\n",
    "soup = BeautifulSoup(html.text, 'html.parser')\n",
    "google_images = []\n",
    "all_script_tags = soup.select(\"script\")"
   ]
  },
  {
   "attachments": {},
   "cell_type": "markdown",
   "metadata": {},
   "source": [
    "REGEX (tinggal copas copas dari internet doang asli wkwk)"
   ]
  },
  {
   "cell_type": "code",
   "execution_count": 15,
   "metadata": {},
   "outputs": [],
   "source": [
    "# https://regex101.com/r/48UZhY/4\n",
    "matched_images_data = \"\".join(re.findall(r\"AF_initDataCallback\\(([^<]+)\\);\", str(all_script_tags)))\n",
    "\n",
    "matched_images_data_fix = json.dumps(matched_images_data)\n",
    "matched_images_data_json = json.loads(matched_images_data_fix)\n",
    "  \n",
    "# https://regex101.com/r/VPz7f2/1\n",
    "matched_google_image_data = re.findall(r'\\\"b-GRID_STATE0\\\"(.*)sideChannel:\\s?{}}', matched_images_data_json)\n",
    "\n",
    "# https://regex101.com/r/Jt5BJW/1\n",
    "matched_google_images_thumbnails = \", \".join(\n",
    "    re.findall(r'\\[\\\"(https\\:\\/\\/encrypted-tbn0\\.gstatic\\.com\\/images\\?.*?)\\\",\\d+,\\d+\\]',\n",
    "                   str(matched_google_image_data))).split(\", \")\n",
    "\n",
    "thumbnails = [bytes(bytes(thumbnail, \"ascii\").decode(\"unicode-escape\"), \"ascii\").decode(\"unicode-escape\") for thumbnail in matched_google_images_thumbnails]\n",
    "\n",
    "# removing previously matched thumbnails for easier full resolution image matches.\n",
    "removed_matched_google_images_thumbnails = re.sub(\n",
    "        r'\\[\\\"(https\\:\\/\\/encrypted-tbn0\\.gstatic\\.com\\/images\\?.*?)\\\",\\d+,\\d+\\]', \"\", str(matched_google_image_data))\n",
    "\n",
    "# https://regex101.com/r/fXjfb1/4\n",
    "# https://stackoverflow.com/a/19821774/15164646\n",
    "matched_google_full_resolution_images = re.findall(r\"(?:'|,),\\[\\\"(https:|http.*?)\\\",\\d+,\\d+\\]\", removed_matched_google_images_thumbnails)\n",
    "\n",
    "full_res_images = [\n",
    "        bytes(bytes(img, \"ascii\").decode(\"unicode-escape\"), \"ascii\").decode(\"unicode-escape\") for img in matched_google_full_resolution_images\n",
    "]"
   ]
  },
  {
   "attachments": {},
   "cell_type": "markdown",
   "metadata": {},
   "source": [
    "METHOD DOWNLOAD"
   ]
  },
  {
   "cell_type": "code",
   "execution_count": 49,
   "metadata": {},
   "outputs": [],
   "source": [
    "import requests\n",
    "from PIL import Image\n",
    "import io\n",
    "import time\n",
    "       \n",
    "def download(image,folder,iter):\n",
    "    # Set the image URL\n",
    "    url = image\n",
    "\n",
    "    # Make a GET request to the URL and save the response\n",
    "    try:\n",
    "        response = requests.get(url)\n",
    "    except :\n",
    "        time.sleep(30)\n",
    "        try:\n",
    "           response = requests.get(url)\n",
    "        except:\n",
    "            time.sleep(30)\n",
    "            pass\n",
    "        \n",
    "\n",
    "    try:\n",
    "        images = Image.open(io.BytesIO(response.content))\n",
    "        \n",
    "        # Save the image to a file\n",
    "        images.save(\"{}/tes_{}.jpg\".format(folder,iter))\n",
    "    except:\n",
    "        pass"
   ]
  },
  {
   "attachments": {},
   "cell_type": "markdown",
   "metadata": {},
   "source": [
    "MASUKIN LINK KE ARRAY"
   ]
  },
  {
   "cell_type": "code",
   "execution_count": 18,
   "metadata": {},
   "outputs": [],
   "source": [
    "for index, (metadata, thumbnail, original) in enumerate(zip(soup.select('.isv-r.PNCib.MSM1fd.BUooTd'), thumbnails, full_res_images), start=1):\n",
    "    google_images.append(original)"
   ]
  },
  {
   "cell_type": "code",
   "execution_count": 30,
   "metadata": {},
   "outputs": [
    {
     "data": {
      "text/plain": [
       "100"
      ]
     },
     "execution_count": 30,
     "metadata": {},
     "output_type": "execute_result"
    }
   ],
   "source": [
    "len(google_images)"
   ]
  },
  {
   "attachments": {},
   "cell_type": "markdown",
   "metadata": {},
   "source": [
    "DOWNLOAD"
   ]
  },
  {
   "cell_type": "code",
   "execution_count": 50,
   "metadata": {},
   "outputs": [],
   "source": [
    "iter = 0\n",
    "Folder = 'tes'\n",
    "for i in google_images:\n",
    "    download(i,Folder,iter)\n",
    "    iter = iter + 1"
   ]
  },
  {
   "cell_type": "code",
   "execution_count": 47,
   "metadata": {},
   "outputs": [
    {
     "name": "stdout",
     "output_type": "stream",
     "text": [
      "Before the sleep statement\n",
      "After the sleep statement\n"
     ]
    }
   ],
   "source": []
  }
 ],
 "metadata": {
  "kernelspec": {
   "display_name": "Python 3",
   "language": "python",
   "name": "python3"
  },
  "language_info": {
   "codemirror_mode": {
    "name": "ipython",
    "version": 3
   },
   "file_extension": ".py",
   "mimetype": "text/x-python",
   "name": "python",
   "nbconvert_exporter": "python",
   "pygments_lexer": "ipython3",
   "version": "3.10.5"
  },
  "orig_nbformat": 4
 },
 "nbformat": 4,
 "nbformat_minor": 2
}
