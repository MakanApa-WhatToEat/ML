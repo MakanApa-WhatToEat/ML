{
 "cells": [
  {
   "attachments": {},
   "cell_type": "markdown",
   "metadata": {},
   "source": [
    "IMPORT LIBRARY"
   ]
  },
  {
   "cell_type": "code",
   "execution_count": 16,
   "metadata": {},
   "outputs": [],
   "source": [
    "import requests, re, json, lxml\n",
    "from bs4 import BeautifulSoup"
   ]
  },
  {
   "attachments": {},
   "cell_type": "markdown",
   "metadata": {},
   "source": [
    "PARAMETER PENCARIAN"
   ]
  },
  {
   "cell_type": "code",
   "execution_count": 17,
   "metadata": {},
   "outputs": [],
   "source": [
    "headers = {\n",
    "    \"User-Agent\": \"Mozilla/5.0 (Windows NT 10.0; Win64; x64) AppleWebKit/537.36 (KHTML, like Gecko) Chrome/100.0.4896.60 Safari/537.36\",\n",
    "  }\n",
    "\n",
    "params = {\n",
    "    \"q\": \"bawang putih\",              # search query\n",
    "    \"tbm\": \"isch\",                # image results\n",
    "    \"hl\": \"id\",                   # language of the search\n",
    "    \"gl\": \"id\",                   # country where search comes fro\n",
    "  }"
   ]
  },
  {
   "attachments": {},
   "cell_type": "markdown",
   "metadata": {},
   "source": [
    "SEARCH "
   ]
  },
  {
   "cell_type": "code",
   "execution_count": 18,
   "metadata": {},
   "outputs": [],
   "source": [
    "html = requests.get(\"https://google.com/search\", params=params, headers=headers, timeout=30)\n",
    "soup = BeautifulSoup(html.text, 'html.parser')\n",
    "google_images = []\n",
    "all_script_tags = soup.select(\"script\")"
   ]
  },
  {
   "attachments": {},
   "cell_type": "markdown",
   "metadata": {},
   "source": [
    "REGEX (tinggal copas copas dari internet doang asli wkwk)"
   ]
  },
  {
   "cell_type": "code",
   "execution_count": 19,
   "metadata": {},
   "outputs": [],
   "source": [
    "# https://regex101.com/r/48UZhY/4\n",
    "matched_images_data = \"\".join(re.findall(r\"AF_initDataCallback\\(([^<]+)\\);\", str(all_script_tags)))\n",
    "\n",
    "matched_images_data_fix = json.dumps(matched_images_data)\n",
    "matched_images_data_json = json.loads(matched_images_data_fix)\n",
    "  \n",
    "# https://regex101.com/r/VPz7f2/1\n",
    "matched_google_image_data = re.findall(r'\\\"b-GRID_STATE0\\\"(.*)sideChannel:\\s?{}}', matched_images_data_json)\n",
    "\n",
    "# https://regex101.com/r/Jt5BJW/1\n",
    "matched_google_images_thumbnails = \", \".join(\n",
    "    re.findall(r'\\[\\\"(https\\:\\/\\/encrypted-tbn0\\.gstatic\\.com\\/images\\?.*?)\\\",\\d+,\\d+\\]',\n",
    "                   str(matched_google_image_data))).split(\", \")\n",
    "\n",
    "thumbnails = [bytes(bytes(thumbnail, \"ascii\").decode(\"unicode-escape\"), \"ascii\").decode(\"unicode-escape\") for thumbnail in matched_google_images_thumbnails]\n",
    "\n",
    "# removing previously matched thumbnails for easier full resolution image matches.\n",
    "removed_matched_google_images_thumbnails = re.sub(\n",
    "        r'\\[\\\"(https\\:\\/\\/encrypted-tbn0\\.gstatic\\.com\\/images\\?.*?)\\\",\\d+,\\d+\\]', \"\", str(matched_google_image_data))\n",
    "\n",
    "# https://regex101.com/r/fXjfb1/4\n",
    "# https://stackoverflow.com/a/19821774/15164646\n",
    "matched_google_full_resolution_images = re.findall(r\"(?:'|,),\\[\\\"(https:|http.*?)\\\",\\d+,\\d+\\]\", removed_matched_google_images_thumbnails)\n",
    "\n",
    "full_res_images = [\n",
    "        bytes(bytes(img, \"ascii\").decode(\"unicode-escape\"), \"ascii\").decode(\"unicode-escape\") for img in matched_google_full_resolution_images\n",
    "]"
   ]
  },
  {
   "attachments": {},
   "cell_type": "markdown",
   "metadata": {},
   "source": [
    "METHOD DOWNLOAD"
   ]
  },
  {
   "cell_type": "code",
   "execution_count": 39,
   "metadata": {},
   "outputs": [],
   "source": [
    "import requests\n",
    "from PIL import Image\n",
    "import io\n",
    "\n",
    "def download(image,folder):\n",
    "    # Set the image URL\n",
    "    url = image\n",
    "\n",
    "    # Make a GET request to the URL and save the response\n",
    "    response = requests.get(url)\n",
    "\n",
    "    # Open the response content as an image using Pillow\n",
    "    images = Image.open(io.BytesIO(response.content))\n",
    "\n",
    "    # Save the image to a file\n",
    "    relname = ''.join(e for e in image if e.isalnum())\n",
    "    images.save(\"{}/{}.jpg\".format(folder,relname))"
   ]
  },
  {
   "attachments": {},
   "cell_type": "markdown",
   "metadata": {},
   "source": [
    "MASUKIN LINK KE ARRAY"
   ]
  },
  {
   "cell_type": "code",
   "execution_count": 21,
   "metadata": {},
   "outputs": [],
   "source": [
    "for index, (metadata, thumbnail, original) in enumerate(zip(soup.select('.isv-r.PNCib.MSM1fd.BUooTd'), thumbnails, full_res_images), start=1):\n",
    "    google_images.append(original)"
   ]
  },
  {
   "cell_type": "code",
   "execution_count": 45,
   "metadata": {},
   "outputs": [
    {
     "data": {
      "text/plain": [
       "['https://www.astronauts.id/blog/wp-content/uploads/2022/11/Manfaat-Bawang-Putih-Untuk-Kulit-yang-Tidak-Banyak-Tahu.jpg',\n",
       " 'https://upload.wikimedia.org/wikipedia/commons/2/22/Garlic.jpg',\n",
       " 'https://cdn-2.tstatic.net/belitung/foto/bank/images/20220716-manfaat-bawang-putih-12.jpg',\n",
       " 'https://mysiloam-api.siloamhospitals.com/public-asset/website-cms/website-cms-16666826813597881.webp',\n",
       " 'https://trubus.id/wp-content/uploads/2023/01/Manfaat-Bawang-Putih-sebagai-Obat-Luka-hingga-Pengawet-Tahu.jpg',\n",
       " 'https://www.astronauts.id/blog/wp-content/uploads/2022/11/Kenali-Manfaat-Bawang-Putih-dan-Cara-Mengkonsumsinya-yang-Benar.jpg',\n",
       " 'https://asset-a.grid.id/crop/0x0:0x0/x/photo/2020/12/21/3953776938.jpg',\n",
       " 'https://storage.aido.id/articles/May2021/ieb0z3dbjhb2dyrk5h89.jpg',\n",
       " 'https://images.tokopedia.net/img/cache/500-square/VqbcmM/2021/10/1/53612288-79c5-4957-ae41-ff1bccb12ef8.jpg',\n",
       " 'https://res.cloudinary.com/dk0z4ums3/image/upload/v1617595463/attached_image/Apa-Manfaat-Bawang-Putih-bagi-Kesehatan.jpg',\n",
       " 'https://statics.indozone.news/content/2022/05/19/mnsv8x3/apa-manfaat-makan-bawang-putih-mentah-inilah-7-khasiatnya40_700.jpg',\n",
       " 'https://akcdn.detik.net.id/visual/2022/09/28/ilustrasi-bawang-putih-kupas_169.jpeg?w=650',\n",
       " 'https://asset.kompas.com/crops/sXEw3FBlTkVTuxwe-UciR-Jvt7I=/0x0:1918x1279/750x500/data/photo/2021/04/26/6086604247789.jpg',\n",
       " 'https://akcdn.detik.net.id/visual/2014/11/27/6220ff98-5615-4121-b43e-0904fc6473ee_169.jpg?w=650&q=90',\n",
       " 'https://jovee.id/wp-content/uploads/2020/04/img2.jpg',\n",
       " 'https://sumeks.disway.id/upload/377e1932843599e2bb50ae6947625564.jpg',\n",
       " 'https://www.car.co.id/media/267826/28-des_499x334.jpg',\n",
       " 'https://images.bisnis.com/posts/2023/02/26/1631908/whatsapp-image-2020-03-03-at-12.256.jpg',\n",
       " 'https://www.static-src.com/wcsstore/Indraprastha/images/catalog/full//97/MTA-7375327/ikan_asin_mas_rido_ikan_asin_mas_rido_bawang_putih_-100g-_full02_bhrz4p5d.jpg',\n",
       " 'https://cdn1-production-images-kly.akamaized.net/wyRWXz17RbqFVvKPyaIpqNWEHQM=/1200x900/smart/filters:quality(75):strip_icc():format(jpeg)/kly-media-production/medias/1924062/original/095892200_1539664901-010977500_1519279228-bawang_putih_istock.jpg',\n",
       " 'https://www.greeners.co/wp-content/uploads/2019/06/Bawang-Putih-Umbi-Pendatang-Yang-Digemari-dan-Banyak-Manfaat-HEader.jpg',\n",
       " 'http://klimg.com/merdeka.com/i/w/news/2017/10/27/902774/640x320/16-manfaat-bawang-putih-untuk-kesehatan-dan-kecantikan.jpg',\n",
       " 'http://ners.unair.ac.id/site/images/Lihat/Manfaat_bawang_putih.png',\n",
       " 'https://i.ytimg.com/vi/WwyUo9AMY18/maxresdefault.jpg',\n",
       " 'https://img.okezone.com/content/2021/04/15/298/2395129/7-manfaat-bawang-putih-untuk-kesehatan-rYmyq9Cby8.jpg',\n",
       " 'https://o-cdf.sirclocdn.com/unsafe/o-cdn-cas.sirclocdn.com/parenting/images/cara-menanam-bawang-putih.width-800.format-webp.webp',\n",
       " 'https://cdn1-production-images-kly.akamaized.net/22OYDG1OrSNXB0qxu5dLfF4A3z0=/1200x900/smart/filters:quality(75):strip_icc():format(jpeg)/kly-media-production/medias/1924065/original/049942600_1519279432-iStock-843635216.jpg',\n",
       " 'https://asset.kompas.com/crops/2_81z-OChk-FJzgcIp2nTMoUDf0=/192x131:1728x1155/750x500/data/photo/2021/04/27/6087a4049dd6c.jpg',\n",
       " 'https://cloud.jpnn.com/photo/ilustrasi/normal/2021/12/22/bawang-putih-foto-ricardojpnn-com-u0ug2-whyj.jpg',\n",
       " 'https://promkes.kemkes.go.id/imagex/content/d6700b04Bawang_Putih.jpg',\n",
       " 'https://awsimages.detik.net.id/community/media/visual/2020/02/05/29e73f08-11b1-4570-954d-8ee86db8bc86_169.jpeg?w=700&q=90',\n",
       " 'https://static.republika.co.id/uploads/images/inpicture_slide/bawang-putih-_160215081322-838.jpg',\n",
       " 'https://cdn-cms.pgimgs.com/static/2020/10/Cara-Menanam-Bawang-Putih.jpg',\n",
       " 'https://ulyadays.com/wp-content/uploads/2017/05/Bawang-Putih-Allium-sativum-L-Tanaman-yang-Bermanfaat-Untuk-Pengobatan.jpg',\n",
       " 'https://awsimages.detik.net.id/community/media/visual/2016/06/21/b5fd2768-9fcd-476b-b442-bc935e4f0fd1_169.jpg?w=700&q=90',\n",
       " 'https://pyfahealth.com/wp-content/uploads/2023/01/Ketahui-Manfaat-Bawang-Putih-untuk-Kesehatan-.jpg',\n",
       " 'https://berita.99.co/wp-content/uploads/2022/10/manfaat-menaruh-bawang-putih-dibawah-bantal.jpg',\n",
       " 'https://images.tokopedia.net/img/cache/500-square/VqbcmM/2022/6/24/81717af5-e5bd-4e96-ad91-12bd043b1c24.png',\n",
       " 'https://d1vbn70lmn1nqe.cloudfront.net/prod/wp-content/uploads/2022/08/25082244/bawang-putih-berkhasiat-pada-kesuburan-pria-ini-faktanya-halodoc.jpg',\n",
       " 'https://webmedy.com/blog/id/benefits-garlic/benefits-garlic.jpg',\n",
       " 'https://static.honestdocs.id/system/blog_articles/main_hero_images/000/001/586/original/Kandungan_dan_Manfaat_Bawang_Putih_Bagi_Kesehatan.jpg',\n",
       " 'https://trubus.id/wp-content/uploads/2022/12/Bawang-Putih-Bermanfaat-Menghalau-Hama-Pengganggu-Tanaman.jpg',\n",
       " 'https://backpanel.kemlu.go.id/PublishingImages/Indonesia%20has%20started%20exporting%20garlic%20to%20global%20market%202.jpg',\n",
       " 'http://klimg.com/merdeka.com/i/w/news/2017/04/26/836912/640x320/5-perubahan-dalam-tubuh-saat-makan-bawang-putih-panggang.jpg',\n",
       " 'https://asset.kompas.com/crops/0-uErTXIcPZixKDLG2jd7Qaj00g=/635x456:1872x1280/1200x800/data/photo/2023/01/12/63bf0efc41693.jpg',\n",
       " 'https://radarmukomuko.disway.id/upload/6ff597bb61dbf7a2ddebed298f41455d.jpg',\n",
       " 'https://ugm.ac.id/galleries/crop/5275--730x420px.jpg',\n",
       " 'https://cdn1.katadata.co.id/media/images/thumb/2021/11/25/Ilustrasi_Manfaat_Bawang_Putih_Tunggal-2021_11_25-10_00_27_05eb2e3a23de94c723aba356c1a8ec06_400x267_thumb.jpg',\n",
       " 'https://o-cdn-cas.sirclocdn.com/parenting/images/manfaat-bawang-putih-tunggal.width-800.jpegquality-80.jpg',\n",
       " 'https://cms.sehatq.com/public/img/article_img/manfaat-bawang-putih-tunggal-1664879587.jpeg',\n",
       " 'https://resepkoki.co/wp-content/uploads/2016/03/maks-manfaat-bawang-putih-resepkoki.jpg',\n",
       " 'https://asset-a.grid.id/crop/0x26:750x549/x/photo/2021/06/04/rsz_bawangjpg-20210604115251.jpg',\n",
       " 'https://pyfahealth.com/wp-content/uploads/2021/08/5-Manfaat-Bawang-Putih-Cegah-Kanker-Hingga-Atasi-Infeksi.jpg',\n",
       " 'https://akcdn.detik.net.id/visual/2021/12/16/indonesia-pengimpor-bawang-putih-terbesar-di-dunia-5_169.jpeg?w=650',\n",
       " 'https://awsimages.detik.net.id/community/media/visual/2019/09/07/82308105-d07e-4a0f-9428-a13f8b1dc88d_43.jpeg?w=700&q=90',\n",
       " 'https://res.cloudinary.com/dk0z4ums3/image/upload/v1602483764/attached_image/bolehkah-menambahkan-bawang-putih-untuk-mpasi-anak.jpg',\n",
       " 'https://cdn-brilio-net.akamaized.net/webp/news/2022/03/10/224702/1200xauto-8-manfaat-bawang-putih-untuk-wajah-bantu-hempas-jerawat-220310o.jpg',\n",
       " 'https://img-cdn.medkomtek.com/shXq4fDvvzjupXhw2BOfLndszrk=/0x0/smart/filters:quality(75):strip_icc():format(webp)/article/97VcEfyZVPlD3nguMVPFD/original/077575300_1601376981-Bahaya-makan-Bawang-putih-kebanyakan-shutterstock_206775643.jpg',\n",
       " 'https://mmc.tirto.id/image/2017/05/30/bawang-putih-iStock_ratio-16x9.jpg',\n",
       " 'https://img.okezone.com/content/2020/12/04/298/2321533/sering-konsumsi-yuk-ini-5-manfaat-bawang-putih-bagi-kesehatan-anda-nKLVQWddTG.jpg',\n",
       " 'https://www.finnafood.com/blog/wp-content/uploads/2022/08/Ciri-Bawang-Putih-yang-Bagus-Buat-Sambal-Bawang.jpg',\n",
       " 'https://dinpertanpangan.demakkab.go.id/wp-content/uploads/2022/10/bd836e9420a97a511517d28cd11e994f.jpg',\n",
       " 'https://d1bpj0tv6vfxyp.cloudfront.net/articles/585562_31-7-2020_10-1-25.jpeg',\n",
       " 'https://cdns.klimg.com/dream.co.id/resources/news/2019/12/11/124763/1200x600-14-manfaat-bawang-putih-tunggal-untuk-kesehatan-pria-191211v-rev191212.jpg',\n",
       " 'https://asset-a.grid.id/crop/0x0:0x0/700x465/photo/2020/06/02/4093434404.jpg',\n",
       " 'https://cdn-brilio-net.akamaized.net/webp/news/2021/07/13/209600/1200xauto-10-manfaat-bawang-putih-rebus-obati-batuk-dan-flu-210713s-rev1.jpg',\n",
       " 'https://assets.ayobandung.com/crop/0x0:0x0/750x500/webp/photo/ayobandung/images-bandung/post/articles/2020/02/12/79297/bawang_putih_kavin.jpg',\n",
       " 'https://cdns.klimg.com/newshub.id/site/krjogja.com/news/2022/07/28/405085/harga-bawang-putih-sinco-tetap-mahal-220728g.jpg',\n",
       " 'https://images.genpi.co/resize/1280x860-100/uploads/data/images/2021/landy%20cantik/ilustrasi%20bawang%20putih%20tunggal%20freepik.webp',\n",
       " 'https://assets.pikiran-rakyat.com/crop/0x0:0x0/x/photo/2022/01/16/324931922.jpg',\n",
       " 'https://assets.ayobandung.com/crop/0x0:0x0/750x500/webp/photo/2022/09/06/1401851500.jpg',\n",
       " 'https://foto.kontan.co.id/xRCM1ctZBneKmLJNa4iyQae6D9Q=/smart/2023/01/13/1609374144p.jpg',\n",
       " 'https://paragrafnews.com/wp-content/uploads/2023/04/10-fakta-menarik-tentang-bawang-putih.jpeg',\n",
       " 'https://awsimages.detik.net.id/visual/2019/05/07/003d2e07-2ffc-487e-8af8-cc6b0a2415f0_169.jpeg?w=650',\n",
       " 'https://s3.theasianparent.com/tap-assets-prod/wp-content/uploads/sites/24/2022/08/manfaat-bawang-putih-untuk-pria-1.jpg',\n",
       " 'https://fk.ui.ac.id/infosehat/wp-content/uploads/2022/02/61db19a3cc784-750x445.jpg',\n",
       " 'https://www.hypermart.co.id/wp-content/uploads/elementor/thumbs/83-p5q08m83h136juzivxbywdb3s4excvjyt9beupjf2w.jpg',\n",
       " 'https://assets.jatimnetwork.com/crop/0x0:0x0/750x500/webp/photo/2023/04/15/Screenshot_2023-04-15-12-50-51-329_comandroidchrome-edit-3283968054.jpg',\n",
       " 'https://imgx.parapuan.co/crop/0x0:0x0/x/photo/2022/01/09/bawang-putihjpeg-20220109041031.jpeg',\n",
       " 'https://rey.id/blog/wp-content/uploads/2022/02/10-manfaat-bawang-putih-untuk-kesehatan.jpg',\n",
       " 'https://pict.sindonews.net/dyn/850/pena/news/2020/07/08/716/93714/makan-bawang-putih-bakar-racun-dan-bakteri-di-tubuh-hilang-dalam-waktu-24-jam-mhh.jpg',\n",
       " 'https://cdn1-production-images-kly.akamaized.net/Goejo3ddzP1FSWj1PPn-xBZGNTk=/0x825:1920x1907/1200x675/filters:quality(75):strip_icc():format(jpeg)/kly-media-production/medias/3281713/original/003222000_1603972460-anshu-a-yuB68kf21Z4-unsplash.jpg',\n",
       " 'https://t-2.tstatic.net/jogja/foto/bank/images/khasiat-bawang-putih.jpg',\n",
       " 'https://akcdn.detik.net.id/api/wm/2022/12/14/manfaat-bawang-putih-bagi-kesehatan-rambutfoto-freepikjcomp_169.jpeg',\n",
       " 'https://blue.kumparan.com/image/upload/c_fill,f_jpg,h_675,q_auto,w_1200/g_south,l_og_kumparan_zscykb/co_rgb:ffffff,g_south_west,l_text:Heebo_20_bold:Konten%20Redaksi%20kumparan%0DkumparanFOOD,x_140,y_26/yfzozppmt9ci18lws26n.jpg',\n",
       " 'https://image.jpnn.com/resize/1200x800-80/arsip/normal/2017/04/30/4e2564f834b5e865c44973c21a13ae3f.jpg',\n",
       " 'https://static.honestdocs.id/system/blog_articles/main_hero_images/000/000/819/original/Manfaat_Bawang_Putih_Untuk_Jamur_Kulit_Hingga_Diabetes.jpg',\n",
       " 'https://s1.bukalapak.com/bukalapak-kontenz-production/content_attachments/86566/original/manfaat_bawang_putih_image_1_1_.jpg',\n",
       " 'https://cdn.popmama.com/content-images/post/20210920/untitled-design-23png-bd7f6ea66500c3e212c4a80790dc6d15_800x420.png',\n",
       " 'https://cdn1.katadata.co.id/media/images/thumb/2022/03/01/Bawang_putih-2022_03_01-10_19_34_b3c562418359f8d903dc02e55c9c7d2d_620x413_thumb.jpg',\n",
       " 'https://img.celebrities.id/okz/700/70g5Rn/master_1n8mO9UE46_481_bawang_putih_bisa_menghilangkan_dahak_membandel.jpg',\n",
       " 'http://klimg.com/merdeka.com/i/w/news/2020/01/13/1139878/540x270/12-manfaat-bawang-putih-untuk-kecantikan-dan-efek-samping-yang-harus-diketahui.jpg',\n",
       " 'https://indonesia-spices-nuts-online.com/wp-content/uploads/2019/09/Bawang-Putih-BB.jpg',\n",
       " 'https://dinaspangan.sumbarprov.go.id/images/2017/03/416-keuntungan-makan-bawang-putih-saat-perut-kosong.jpg',\n",
       " 'https://akcdn.detik.net.id/api/wm/2020/04/14/ac8a1b03-8e4d-48c4-9f89-e40b03f030cd_169.jpeg',\n",
       " 'https://awsimages.detik.net.id/community/media/visual/2020/03/12/c3342176-5fce-4118-8f92-5984c237801e_169.jpeg?w=700&q=90',\n",
       " 'https://litbang.kemendagri.go.id/website/wp-content/uploads/2017/11/bawang-putih.jpg',\n",
       " 'https://static.republika.co.id/uploads/images/inpicture_slide/sejak-masa-silam-konsumsi-bawang-putih-dikenal-berkhasiat-untuk_200610235026-759.jpg',\n",
       " 'https://www.garnesia.com/images/news/b596.jpg',\n",
       " 'https://res.cloudinary.com/dk0z4ums3/image/upload/v1681161939/attached_image/5-manfaat-bawang-putih-untuk-wanita-yang-jarang-diketahui.jpg']"
      ]
     },
     "execution_count": 45,
     "metadata": {},
     "output_type": "execute_result"
    }
   ],
   "source": [
    "google_images"
   ]
  },
  {
   "attachments": {},
   "cell_type": "markdown",
   "metadata": {},
   "source": [
    "DOWNLOAD"
   ]
  },
  {
   "cell_type": "code",
   "execution_count": 57,
   "metadata": {},
   "outputs": [
    {
     "ename": "KeyboardInterrupt",
     "evalue": "",
     "output_type": "error",
     "traceback": [
      "\u001b[1;31m---------------------------------------------------------------------------\u001b[0m",
      "\u001b[1;31mKeyboardInterrupt\u001b[0m                         Traceback (most recent call last)",
      "\u001b[1;32md:\\Learning\\kampus merdeka\\BANGKIT\\coursera\\git\\ML\\Scraping\\code2.ipynb Cell 16\u001b[0m in \u001b[0;36m<cell line: 1>\u001b[1;34m()\u001b[0m\n\u001b[0;32m      <a href='vscode-notebook-cell:/d%3A/Learning/kampus%20merdeka/BANGKIT/coursera/git/ML/Scraping/code2.ipynb#X24sZmlsZQ%3D%3D?line=0'>1</a>\u001b[0m \u001b[39mfor\u001b[39;00m i \u001b[39min\u001b[39;00m google_images:\n\u001b[1;32m----> <a href='vscode-notebook-cell:/d%3A/Learning/kampus%20merdeka/BANGKIT/coursera/git/ML/Scraping/code2.ipynb#X24sZmlsZQ%3D%3D?line=1'>2</a>\u001b[0m     download(i,folder\u001b[39m=\u001b[39;49m\u001b[39m'\u001b[39;49m\u001b[39mbawang_putih_code2_1link\u001b[39;49m\u001b[39m'\u001b[39;49m)\n",
      "\u001b[1;32md:\\Learning\\kampus merdeka\\BANGKIT\\coursera\\git\\ML\\Scraping\\code2.ipynb Cell 16\u001b[0m in \u001b[0;36mdownload\u001b[1;34m(image, folder)\u001b[0m\n\u001b[0;32m      <a href='vscode-notebook-cell:/d%3A/Learning/kampus%20merdeka/BANGKIT/coursera/git/ML/Scraping/code2.ipynb#X24sZmlsZQ%3D%3D?line=6'>7</a>\u001b[0m url \u001b[39m=\u001b[39m image\n\u001b[0;32m      <a href='vscode-notebook-cell:/d%3A/Learning/kampus%20merdeka/BANGKIT/coursera/git/ML/Scraping/code2.ipynb#X24sZmlsZQ%3D%3D?line=8'>9</a>\u001b[0m \u001b[39m# Make a GET request to the URL and save the response\u001b[39;00m\n\u001b[1;32m---> <a href='vscode-notebook-cell:/d%3A/Learning/kampus%20merdeka/BANGKIT/coursera/git/ML/Scraping/code2.ipynb#X24sZmlsZQ%3D%3D?line=9'>10</a>\u001b[0m response \u001b[39m=\u001b[39m requests\u001b[39m.\u001b[39;49mget(url)\n\u001b[0;32m     <a href='vscode-notebook-cell:/d%3A/Learning/kampus%20merdeka/BANGKIT/coursera/git/ML/Scraping/code2.ipynb#X24sZmlsZQ%3D%3D?line=11'>12</a>\u001b[0m \u001b[39m# Open the response content as an image using Pillow\u001b[39;00m\n\u001b[0;32m     <a href='vscode-notebook-cell:/d%3A/Learning/kampus%20merdeka/BANGKIT/coursera/git/ML/Scraping/code2.ipynb#X24sZmlsZQ%3D%3D?line=12'>13</a>\u001b[0m images \u001b[39m=\u001b[39m Image\u001b[39m.\u001b[39mopen(io\u001b[39m.\u001b[39mBytesIO(response\u001b[39m.\u001b[39mcontent))\n",
      "File \u001b[1;32mc:\\Users\\Lenovo\\AppData\\Local\\Programs\\Python\\Python310\\lib\\site-packages\\requests\\api.py:73\u001b[0m, in \u001b[0;36mget\u001b[1;34m(url, params, **kwargs)\u001b[0m\n\u001b[0;32m     62\u001b[0m \u001b[39mdef\u001b[39;00m \u001b[39mget\u001b[39m(url, params\u001b[39m=\u001b[39m\u001b[39mNone\u001b[39;00m, \u001b[39m*\u001b[39m\u001b[39m*\u001b[39mkwargs):\n\u001b[0;32m     63\u001b[0m     \u001b[39mr\u001b[39m\u001b[39m\"\"\"Sends a GET request.\u001b[39;00m\n\u001b[0;32m     64\u001b[0m \n\u001b[0;32m     65\u001b[0m \u001b[39m    :param url: URL for the new :class:`Request` object.\u001b[39;00m\n\u001b[1;32m   (...)\u001b[0m\n\u001b[0;32m     70\u001b[0m \u001b[39m    :rtype: requests.Response\u001b[39;00m\n\u001b[0;32m     71\u001b[0m \u001b[39m    \"\"\"\u001b[39;00m\n\u001b[1;32m---> 73\u001b[0m     \u001b[39mreturn\u001b[39;00m request(\u001b[39m\"\u001b[39m\u001b[39mget\u001b[39m\u001b[39m\"\u001b[39m, url, params\u001b[39m=\u001b[39mparams, \u001b[39m*\u001b[39m\u001b[39m*\u001b[39mkwargs)\n",
      "File \u001b[1;32mc:\\Users\\Lenovo\\AppData\\Local\\Programs\\Python\\Python310\\lib\\site-packages\\requests\\api.py:59\u001b[0m, in \u001b[0;36mrequest\u001b[1;34m(method, url, **kwargs)\u001b[0m\n\u001b[0;32m     55\u001b[0m \u001b[39m# By using the 'with' statement we are sure the session is closed, thus we\u001b[39;00m\n\u001b[0;32m     56\u001b[0m \u001b[39m# avoid leaving sockets open which can trigger a ResourceWarning in some\u001b[39;00m\n\u001b[0;32m     57\u001b[0m \u001b[39m# cases, and look like a memory leak in others.\u001b[39;00m\n\u001b[0;32m     58\u001b[0m \u001b[39mwith\u001b[39;00m sessions\u001b[39m.\u001b[39mSession() \u001b[39mas\u001b[39;00m session:\n\u001b[1;32m---> 59\u001b[0m     \u001b[39mreturn\u001b[39;00m session\u001b[39m.\u001b[39mrequest(method\u001b[39m=\u001b[39mmethod, url\u001b[39m=\u001b[39murl, \u001b[39m*\u001b[39m\u001b[39m*\u001b[39mkwargs)\n",
      "File \u001b[1;32mc:\\Users\\Lenovo\\AppData\\Local\\Programs\\Python\\Python310\\lib\\site-packages\\requests\\sessions.py:587\u001b[0m, in \u001b[0;36mSession.request\u001b[1;34m(self, method, url, params, data, headers, cookies, files, auth, timeout, allow_redirects, proxies, hooks, stream, verify, cert, json)\u001b[0m\n\u001b[0;32m    582\u001b[0m send_kwargs \u001b[39m=\u001b[39m {\n\u001b[0;32m    583\u001b[0m     \u001b[39m\"\u001b[39m\u001b[39mtimeout\u001b[39m\u001b[39m\"\u001b[39m: timeout,\n\u001b[0;32m    584\u001b[0m     \u001b[39m\"\u001b[39m\u001b[39mallow_redirects\u001b[39m\u001b[39m\"\u001b[39m: allow_redirects,\n\u001b[0;32m    585\u001b[0m }\n\u001b[0;32m    586\u001b[0m send_kwargs\u001b[39m.\u001b[39mupdate(settings)\n\u001b[1;32m--> 587\u001b[0m resp \u001b[39m=\u001b[39m \u001b[39mself\u001b[39m\u001b[39m.\u001b[39msend(prep, \u001b[39m*\u001b[39m\u001b[39m*\u001b[39msend_kwargs)\n\u001b[0;32m    589\u001b[0m \u001b[39mreturn\u001b[39;00m resp\n",
      "File \u001b[1;32mc:\\Users\\Lenovo\\AppData\\Local\\Programs\\Python\\Python310\\lib\\site-packages\\requests\\sessions.py:701\u001b[0m, in \u001b[0;36mSession.send\u001b[1;34m(self, request, **kwargs)\u001b[0m\n\u001b[0;32m    698\u001b[0m start \u001b[39m=\u001b[39m preferred_clock()\n\u001b[0;32m    700\u001b[0m \u001b[39m# Send the request\u001b[39;00m\n\u001b[1;32m--> 701\u001b[0m r \u001b[39m=\u001b[39m adapter\u001b[39m.\u001b[39msend(request, \u001b[39m*\u001b[39m\u001b[39m*\u001b[39mkwargs)\n\u001b[0;32m    703\u001b[0m \u001b[39m# Total elapsed time of the request (approximately)\u001b[39;00m\n\u001b[0;32m    704\u001b[0m elapsed \u001b[39m=\u001b[39m preferred_clock() \u001b[39m-\u001b[39m start\n",
      "File \u001b[1;32mc:\\Users\\Lenovo\\AppData\\Local\\Programs\\Python\\Python310\\lib\\site-packages\\requests\\adapters.py:489\u001b[0m, in \u001b[0;36mHTTPAdapter.send\u001b[1;34m(self, request, stream, timeout, verify, cert, proxies)\u001b[0m\n\u001b[0;32m    487\u001b[0m \u001b[39mtry\u001b[39;00m:\n\u001b[0;32m    488\u001b[0m     \u001b[39mif\u001b[39;00m \u001b[39mnot\u001b[39;00m chunked:\n\u001b[1;32m--> 489\u001b[0m         resp \u001b[39m=\u001b[39m conn\u001b[39m.\u001b[39;49murlopen(\n\u001b[0;32m    490\u001b[0m             method\u001b[39m=\u001b[39;49mrequest\u001b[39m.\u001b[39;49mmethod,\n\u001b[0;32m    491\u001b[0m             url\u001b[39m=\u001b[39;49murl,\n\u001b[0;32m    492\u001b[0m             body\u001b[39m=\u001b[39;49mrequest\u001b[39m.\u001b[39;49mbody,\n\u001b[0;32m    493\u001b[0m             headers\u001b[39m=\u001b[39;49mrequest\u001b[39m.\u001b[39;49mheaders,\n\u001b[0;32m    494\u001b[0m             redirect\u001b[39m=\u001b[39;49m\u001b[39mFalse\u001b[39;49;00m,\n\u001b[0;32m    495\u001b[0m             assert_same_host\u001b[39m=\u001b[39;49m\u001b[39mFalse\u001b[39;49;00m,\n\u001b[0;32m    496\u001b[0m             preload_content\u001b[39m=\u001b[39;49m\u001b[39mFalse\u001b[39;49;00m,\n\u001b[0;32m    497\u001b[0m             decode_content\u001b[39m=\u001b[39;49m\u001b[39mFalse\u001b[39;49;00m,\n\u001b[0;32m    498\u001b[0m             retries\u001b[39m=\u001b[39;49m\u001b[39mself\u001b[39;49m\u001b[39m.\u001b[39;49mmax_retries,\n\u001b[0;32m    499\u001b[0m             timeout\u001b[39m=\u001b[39;49mtimeout,\n\u001b[0;32m    500\u001b[0m         )\n\u001b[0;32m    502\u001b[0m     \u001b[39m# Send the request.\u001b[39;00m\n\u001b[0;32m    503\u001b[0m     \u001b[39melse\u001b[39;00m:\n\u001b[0;32m    504\u001b[0m         \u001b[39mif\u001b[39;00m \u001b[39mhasattr\u001b[39m(conn, \u001b[39m\"\u001b[39m\u001b[39mproxy_pool\u001b[39m\u001b[39m\"\u001b[39m):\n",
      "File \u001b[1;32mc:\\Users\\Lenovo\\AppData\\Local\\Programs\\Python\\Python310\\lib\\site-packages\\urllib3\\connectionpool.py:703\u001b[0m, in \u001b[0;36mHTTPConnectionPool.urlopen\u001b[1;34m(self, method, url, body, headers, retries, redirect, assert_same_host, timeout, pool_timeout, release_conn, chunked, body_pos, **response_kw)\u001b[0m\n\u001b[0;32m    700\u001b[0m     \u001b[39mself\u001b[39m\u001b[39m.\u001b[39m_prepare_proxy(conn)\n\u001b[0;32m    702\u001b[0m \u001b[39m# Make the request on the httplib connection object.\u001b[39;00m\n\u001b[1;32m--> 703\u001b[0m httplib_response \u001b[39m=\u001b[39m \u001b[39mself\u001b[39;49m\u001b[39m.\u001b[39;49m_make_request(\n\u001b[0;32m    704\u001b[0m     conn,\n\u001b[0;32m    705\u001b[0m     method,\n\u001b[0;32m    706\u001b[0m     url,\n\u001b[0;32m    707\u001b[0m     timeout\u001b[39m=\u001b[39;49mtimeout_obj,\n\u001b[0;32m    708\u001b[0m     body\u001b[39m=\u001b[39;49mbody,\n\u001b[0;32m    709\u001b[0m     headers\u001b[39m=\u001b[39;49mheaders,\n\u001b[0;32m    710\u001b[0m     chunked\u001b[39m=\u001b[39;49mchunked,\n\u001b[0;32m    711\u001b[0m )\n\u001b[0;32m    713\u001b[0m \u001b[39m# If we're going to release the connection in ``finally:``, then\u001b[39;00m\n\u001b[0;32m    714\u001b[0m \u001b[39m# the response doesn't need to know about the connection. Otherwise\u001b[39;00m\n\u001b[0;32m    715\u001b[0m \u001b[39m# it will also try to release it and we'll have a double-release\u001b[39;00m\n\u001b[0;32m    716\u001b[0m \u001b[39m# mess.\u001b[39;00m\n\u001b[0;32m    717\u001b[0m response_conn \u001b[39m=\u001b[39m conn \u001b[39mif\u001b[39;00m \u001b[39mnot\u001b[39;00m release_conn \u001b[39melse\u001b[39;00m \u001b[39mNone\u001b[39;00m\n",
      "File \u001b[1;32mc:\\Users\\Lenovo\\AppData\\Local\\Programs\\Python\\Python310\\lib\\site-packages\\urllib3\\connectionpool.py:386\u001b[0m, in \u001b[0;36mHTTPConnectionPool._make_request\u001b[1;34m(self, conn, method, url, timeout, chunked, **httplib_request_kw)\u001b[0m\n\u001b[0;32m    384\u001b[0m \u001b[39m# Trigger any extra validation we need to do.\u001b[39;00m\n\u001b[0;32m    385\u001b[0m \u001b[39mtry\u001b[39;00m:\n\u001b[1;32m--> 386\u001b[0m     \u001b[39mself\u001b[39;49m\u001b[39m.\u001b[39;49m_validate_conn(conn)\n\u001b[0;32m    387\u001b[0m \u001b[39mexcept\u001b[39;00m (SocketTimeout, BaseSSLError) \u001b[39mas\u001b[39;00m e:\n\u001b[0;32m    388\u001b[0m     \u001b[39m# Py2 raises this as a BaseSSLError, Py3 raises it as socket timeout.\u001b[39;00m\n\u001b[0;32m    389\u001b[0m     \u001b[39mself\u001b[39m\u001b[39m.\u001b[39m_raise_timeout(err\u001b[39m=\u001b[39me, url\u001b[39m=\u001b[39murl, timeout_value\u001b[39m=\u001b[39mconn\u001b[39m.\u001b[39mtimeout)\n",
      "File \u001b[1;32mc:\\Users\\Lenovo\\AppData\\Local\\Programs\\Python\\Python310\\lib\\site-packages\\urllib3\\connectionpool.py:1042\u001b[0m, in \u001b[0;36mHTTPSConnectionPool._validate_conn\u001b[1;34m(self, conn)\u001b[0m\n\u001b[0;32m   1040\u001b[0m \u001b[39m# Force connect early to allow us to validate the connection.\u001b[39;00m\n\u001b[0;32m   1041\u001b[0m \u001b[39mif\u001b[39;00m \u001b[39mnot\u001b[39;00m \u001b[39mgetattr\u001b[39m(conn, \u001b[39m\"\u001b[39m\u001b[39msock\u001b[39m\u001b[39m\"\u001b[39m, \u001b[39mNone\u001b[39;00m):  \u001b[39m# AppEngine might not have  `.sock`\u001b[39;00m\n\u001b[1;32m-> 1042\u001b[0m     conn\u001b[39m.\u001b[39;49mconnect()\n\u001b[0;32m   1044\u001b[0m \u001b[39mif\u001b[39;00m \u001b[39mnot\u001b[39;00m conn\u001b[39m.\u001b[39mis_verified:\n\u001b[0;32m   1045\u001b[0m     warnings\u001b[39m.\u001b[39mwarn(\n\u001b[0;32m   1046\u001b[0m         (\n\u001b[0;32m   1047\u001b[0m             \u001b[39m\"\u001b[39m\u001b[39mUnverified HTTPS request is being made to host \u001b[39m\u001b[39m'\u001b[39m\u001b[39m%s\u001b[39;00m\u001b[39m'\u001b[39m\u001b[39m. \u001b[39m\u001b[39m\"\u001b[39m\n\u001b[1;32m   (...)\u001b[0m\n\u001b[0;32m   1052\u001b[0m         InsecureRequestWarning,\n\u001b[0;32m   1053\u001b[0m     )\n",
      "File \u001b[1;32mc:\\Users\\Lenovo\\AppData\\Local\\Programs\\Python\\Python310\\lib\\site-packages\\urllib3\\connection.py:358\u001b[0m, in \u001b[0;36mHTTPSConnection.connect\u001b[1;34m(self)\u001b[0m\n\u001b[0;32m    356\u001b[0m \u001b[39mdef\u001b[39;00m \u001b[39mconnect\u001b[39m(\u001b[39mself\u001b[39m):\n\u001b[0;32m    357\u001b[0m     \u001b[39m# Add certificate verification\u001b[39;00m\n\u001b[1;32m--> 358\u001b[0m     \u001b[39mself\u001b[39m\u001b[39m.\u001b[39msock \u001b[39m=\u001b[39m conn \u001b[39m=\u001b[39m \u001b[39mself\u001b[39;49m\u001b[39m.\u001b[39;49m_new_conn()\n\u001b[0;32m    359\u001b[0m     hostname \u001b[39m=\u001b[39m \u001b[39mself\u001b[39m\u001b[39m.\u001b[39mhost\n\u001b[0;32m    360\u001b[0m     tls_in_tls \u001b[39m=\u001b[39m \u001b[39mFalse\u001b[39;00m\n",
      "File \u001b[1;32mc:\\Users\\Lenovo\\AppData\\Local\\Programs\\Python\\Python310\\lib\\site-packages\\urllib3\\connection.py:174\u001b[0m, in \u001b[0;36mHTTPConnection._new_conn\u001b[1;34m(self)\u001b[0m\n\u001b[0;32m    171\u001b[0m     extra_kw[\u001b[39m\"\u001b[39m\u001b[39msocket_options\u001b[39m\u001b[39m\"\u001b[39m] \u001b[39m=\u001b[39m \u001b[39mself\u001b[39m\u001b[39m.\u001b[39msocket_options\n\u001b[0;32m    173\u001b[0m \u001b[39mtry\u001b[39;00m:\n\u001b[1;32m--> 174\u001b[0m     conn \u001b[39m=\u001b[39m connection\u001b[39m.\u001b[39mcreate_connection(\n\u001b[0;32m    175\u001b[0m         (\u001b[39mself\u001b[39m\u001b[39m.\u001b[39m_dns_host, \u001b[39mself\u001b[39m\u001b[39m.\u001b[39mport), \u001b[39mself\u001b[39m\u001b[39m.\u001b[39mtimeout, \u001b[39m*\u001b[39m\u001b[39m*\u001b[39mextra_kw\n\u001b[0;32m    176\u001b[0m     )\n\u001b[0;32m    178\u001b[0m \u001b[39mexcept\u001b[39;00m SocketTimeout:\n\u001b[0;32m    179\u001b[0m     \u001b[39mraise\u001b[39;00m ConnectTimeoutError(\n\u001b[0;32m    180\u001b[0m         \u001b[39mself\u001b[39m,\n\u001b[0;32m    181\u001b[0m         \u001b[39m\"\u001b[39m\u001b[39mConnection to \u001b[39m\u001b[39m%s\u001b[39;00m\u001b[39m timed out. (connect timeout=\u001b[39m\u001b[39m%s\u001b[39;00m\u001b[39m)\u001b[39m\u001b[39m\"\u001b[39m\n\u001b[0;32m    182\u001b[0m         \u001b[39m%\u001b[39m (\u001b[39mself\u001b[39m\u001b[39m.\u001b[39mhost, \u001b[39mself\u001b[39m\u001b[39m.\u001b[39mtimeout),\n\u001b[0;32m    183\u001b[0m     )\n",
      "File \u001b[1;32mc:\\Users\\Lenovo\\AppData\\Local\\Programs\\Python\\Python310\\lib\\site-packages\\urllib3\\util\\connection.py:72\u001b[0m, in \u001b[0;36mcreate_connection\u001b[1;34m(address, timeout, source_address, socket_options)\u001b[0m\n\u001b[0;32m     67\u001b[0m \u001b[39mexcept\u001b[39;00m \u001b[39mUnicodeError\u001b[39;00m:\n\u001b[0;32m     68\u001b[0m     \u001b[39mreturn\u001b[39;00m six\u001b[39m.\u001b[39mraise_from(\n\u001b[0;32m     69\u001b[0m         LocationParseError(\u001b[39mu\u001b[39m\u001b[39m\"\u001b[39m\u001b[39m'\u001b[39m\u001b[39m%s\u001b[39;00m\u001b[39m'\u001b[39m\u001b[39m, label empty or too long\u001b[39m\u001b[39m\"\u001b[39m \u001b[39m%\u001b[39m host), \u001b[39mNone\u001b[39;00m\n\u001b[0;32m     70\u001b[0m     )\n\u001b[1;32m---> 72\u001b[0m \u001b[39mfor\u001b[39;00m res \u001b[39min\u001b[39;00m socket\u001b[39m.\u001b[39;49mgetaddrinfo(host, port, family, socket\u001b[39m.\u001b[39;49mSOCK_STREAM):\n\u001b[0;32m     73\u001b[0m     af, socktype, proto, canonname, sa \u001b[39m=\u001b[39m res\n\u001b[0;32m     74\u001b[0m     sock \u001b[39m=\u001b[39m \u001b[39mNone\u001b[39;00m\n",
      "File \u001b[1;32mc:\\Users\\Lenovo\\AppData\\Local\\Programs\\Python\\Python310\\lib\\socket.py:955\u001b[0m, in \u001b[0;36mgetaddrinfo\u001b[1;34m(host, port, family, type, proto, flags)\u001b[0m\n\u001b[0;32m    952\u001b[0m \u001b[39m# We override this function since we want to translate the numeric family\u001b[39;00m\n\u001b[0;32m    953\u001b[0m \u001b[39m# and socket type values to enum constants.\u001b[39;00m\n\u001b[0;32m    954\u001b[0m addrlist \u001b[39m=\u001b[39m []\n\u001b[1;32m--> 955\u001b[0m \u001b[39mfor\u001b[39;00m res \u001b[39min\u001b[39;00m _socket\u001b[39m.\u001b[39;49mgetaddrinfo(host, port, family, \u001b[39mtype\u001b[39;49m, proto, flags):\n\u001b[0;32m    956\u001b[0m     af, socktype, proto, canonname, sa \u001b[39m=\u001b[39m res\n\u001b[0;32m    957\u001b[0m     addrlist\u001b[39m.\u001b[39mappend((_intenum_converter(af, AddressFamily),\n\u001b[0;32m    958\u001b[0m                      _intenum_converter(socktype, SocketKind),\n\u001b[0;32m    959\u001b[0m                      proto, canonname, sa))\n",
      "\u001b[1;31mKeyboardInterrupt\u001b[0m: "
     ]
    }
   ],
   "source": [
    "for i in google_images:\n",
    "    download(i,folder='bawang_putih_code2_1link')"
   ]
  }
 ],
 "metadata": {
  "kernelspec": {
   "display_name": "Python 3",
   "language": "python",
   "name": "python3"
  },
  "language_info": {
   "codemirror_mode": {
    "name": "ipython",
    "version": 3
   },
   "file_extension": ".py",
   "mimetype": "text/x-python",
   "name": "python",
   "nbconvert_exporter": "python",
   "pygments_lexer": "ipython3",
   "version": "3.10.5"
  },
  "orig_nbformat": 4
 },
 "nbformat": 4,
 "nbformat_minor": 2
}
