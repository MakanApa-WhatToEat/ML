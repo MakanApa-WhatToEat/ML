{
 "cells": [
  {
   "cell_type": "code",
   "execution_count": 1,
   "metadata": {},
   "outputs": [],
   "source": [
    "from bs4 import BeautifulSoup as bf\n",
    "import requests\n",
    "import shutil\n",
    "import re"
   ]
  },
  {
   "cell_type": "code",
   "execution_count": 2,
   "metadata": {},
   "outputs": [],
   "source": [
    "def download(image):\n",
    "    respond = requests.get(image, stream=True)\n",
    "    relname = ''.join(e for e in image if e.isalnum())\n",
    "    \n",
    "    file = open(\"bawang_putih/{}.jpg\".format(relname), 'wb')\n",
    "    \n",
    "    respond.raw.decode_content = True\n",
    "    shutil.copyfileobj(respond.raw, file)\n",
    "    \n",
    "    del respond"
   ]
  },
  {
   "cell_type": "code",
   "execution_count": 9,
   "metadata": {},
   "outputs": [
    {
     "data": {
      "text/plain": [
       "[<img alt=\"Google\" class=\"kgJEQe\" src=\"/images/branding/searchlogo/1x/googlelogo_desk_heirloom_color_150x55dp.gif\"/>,\n",
       " <img alt=\"\" class=\"yWs4tf\" src=\"https://encrypted-tbn0.gstatic.com/images?q=tbn:ANd9GcS9j0crhyLUz_GILVQ4ADAU3oRb05nb71yHgwrIqhkzUgpztmejoYc-fi2DK2M&amp;s\"/>,\n",
       " <img alt=\"\" class=\"yWs4tf\" src=\"https://encrypted-tbn0.gstatic.com/images?q=tbn:ANd9GcSwiEV4AZJjtx82GqKkjVzI6eeq2WkTO94kTlG5f4liDxsj01qX7uBAUiWjfg&amp;s\"/>,\n",
       " <img alt=\"\" class=\"yWs4tf\" src=\"https://encrypted-tbn0.gstatic.com/images?q=tbn:ANd9GcR7uq2u8JNXgrodqpEkWDj0GWwfkuVNNx0i8GTsmtZdszqEjeSHWMKD-mbbSg&amp;s\"/>,\n",
       " <img alt=\"\" class=\"yWs4tf\" src=\"https://encrypted-tbn0.gstatic.com/images?q=tbn:ANd9GcTr-i99utZ8glprAyDOK1bd-qRXztFYjGpYwyLL3PdRKkA5lGI9VXzlJhXax-M&amp;s\"/>,\n",
       " <img alt=\"\" class=\"yWs4tf\" src=\"https://encrypted-tbn0.gstatic.com/images?q=tbn:ANd9GcR7iG2DURzjEt2sJ1o0oGfMxsg49RxSDFFWHfsgMXaHIfLAxIPTZ-4HbxHM8sY&amp;s\"/>,\n",
       " <img alt=\"\" class=\"yWs4tf\" src=\"https://encrypted-tbn0.gstatic.com/images?q=tbn:ANd9GcQ06JjpXlu7BLof0ccka7R8Z995r2i-7YHvosAYMWBryj-Y19b12d-yns0aBfA&amp;s\"/>,\n",
       " <img alt=\"\" class=\"yWs4tf\" src=\"https://encrypted-tbn0.gstatic.com/images?q=tbn:ANd9GcSHGQKZFxF7HoRLuseNOE19uWlZaFwj6tsEz74QjK3sYOitezK0UN_Zy6Jm8ps&amp;s\"/>,\n",
       " <img alt=\"\" class=\"yWs4tf\" src=\"https://encrypted-tbn0.gstatic.com/images?q=tbn:ANd9GcR5Zma6c2SDmKLkmqsv3lw8VOcr0gWytCeEV6vX5Q8Zp44YgUjG9K8gpyATwQ&amp;s\"/>,\n",
       " <img alt=\"\" class=\"yWs4tf\" src=\"https://encrypted-tbn0.gstatic.com/images?q=tbn:ANd9GcSMIDpymieiN1vmxp11DFZa6658XOI5Nv40MP-Geh42O54JcLICA3RMVSeXRg&amp;s\"/>,\n",
       " <img alt=\"\" class=\"yWs4tf\" src=\"https://encrypted-tbn0.gstatic.com/images?q=tbn:ANd9GcSub_Pm0At3I3eJg0UsPLwZfcKYTCRxU221ehb-5BCuns-pVWTNovhfLzNr6vw&amp;s\"/>,\n",
       " <img alt=\"\" class=\"yWs4tf\" src=\"https://encrypted-tbn0.gstatic.com/images?q=tbn:ANd9GcSAPMgDfrvg2k175y_pxwkGj59huumq_YJ3xwfIRHOFesmSp5nsz12edIPmuG8&amp;s\"/>,\n",
       " <img alt=\"\" class=\"yWs4tf\" src=\"https://encrypted-tbn0.gstatic.com/images?q=tbn:ANd9GcQ1-RRStbbxrZAr3tJLNKPm7ax-S5mCpirW5p4J_UXkaSSzukaIoKgOIUzfqw&amp;s\"/>,\n",
       " <img alt=\"\" class=\"yWs4tf\" src=\"https://encrypted-tbn0.gstatic.com/images?q=tbn:ANd9GcTigk2oC73QeIMbE05z-MmQ0iKXkzYyxoAapyFsg-Clb-G3Vly6-rqLvt9hzcM&amp;s\"/>,\n",
       " <img alt=\"\" class=\"yWs4tf\" src=\"https://encrypted-tbn0.gstatic.com/images?q=tbn:ANd9GcQLiCU_mVoMQGdgdxt56Gzk8MqcdrecY88Z3or72TEcoubeAGJofd2wKtH_PLw&amp;s\"/>,\n",
       " <img alt=\"\" class=\"yWs4tf\" src=\"https://encrypted-tbn0.gstatic.com/images?q=tbn:ANd9GcRN14232PV4cA7IH9NGZbdcaACREjo4dHDeyAzR_DeudUKWWCCY5yZ3rtvTSw&amp;s\"/>,\n",
       " <img alt=\"\" class=\"yWs4tf\" src=\"https://encrypted-tbn0.gstatic.com/images?q=tbn:ANd9GcQCbLhg38D5Rb2Dezv0mT0BWG2F_InDkpuXCirwLiLdavQH1GN7dCH9gimbBtw&amp;s\"/>,\n",
       " <img alt=\"\" class=\"yWs4tf\" src=\"https://encrypted-tbn0.gstatic.com/images?q=tbn:ANd9GcRvrE_ZvhcmRPXvD8ChbSJWWm4K1u50mlzNltDf8CvdKNhdXeRN47pPFpJxJw&amp;s\"/>,\n",
       " <img alt=\"\" class=\"yWs4tf\" src=\"https://encrypted-tbn0.gstatic.com/images?q=tbn:ANd9GcR6n_jDwH_O0jPmRstL01NvDHdo-E21KseY6THoR809c9LA7rdr0-dwH2iotw&amp;s\"/>,\n",
       " <img alt=\"\" class=\"yWs4tf\" src=\"https://encrypted-tbn0.gstatic.com/images?q=tbn:ANd9GcTxbLEQCTEgU3pR0DE0U2HPrb7drtud-yYudfb-z86vibttM9wRDNZjODRxApk&amp;s\"/>,\n",
       " <img alt=\"\" class=\"yWs4tf\" src=\"https://encrypted-tbn0.gstatic.com/images?q=tbn:ANd9GcSiqi1OQcfzZgdxWcNanuBzS2qV_SqOrUdLfE7_FJpbd_-KsUJPzQPEBMSrbzY&amp;s\"/>]"
      ]
     },
     "execution_count": 9,
     "metadata": {},
     "output_type": "execute_result"
    }
   ],
   "source": [
    "url = 'https://www.google.com/search?q=bawang+putih&tbm=isch&hl=en&chips=q:bawang+putih,g_1:siung:nH6PVS0lYW0%3D,online_chips:putih+tunggal:UcZSgq9pYQg%3D&sa=X&ved=2ahUKEwiekfXZ-u_-AhVd-HMBHcwcD7oQ4lYoAnoECAEQKg&biw=1660&bih=839'\n",
    "    \n",
    "resp = requests.get(url)\n",
    "resUrl = bf(resp.content, 'html.parser')\n",
    "img_url =resUrl.find_all('img')\n",
    "\n",
    "img_url"
   ]
  },
  {
   "cell_type": "code",
   "execution_count": 10,
   "metadata": {},
   "outputs": [],
   "source": [
    "img_src = []\n",
    "\n",
    "for i in img_url :\n",
    "    img_src.append(i.get('src'))\n",
    "    \n",
    "for s in img_src[1:]:\n",
    "    download(s)"
   ]
  }
 ],
 "metadata": {
  "kernelspec": {
   "display_name": "Python 3",
   "language": "python",
   "name": "python3"
  },
  "language_info": {
   "codemirror_mode": {
    "name": "ipython",
    "version": 3
   },
   "file_extension": ".py",
   "mimetype": "text/x-python",
   "name": "python",
   "nbconvert_exporter": "python",
   "pygments_lexer": "ipython3",
   "version": "3.10.5"
  },
  "orig_nbformat": 4
 },
 "nbformat": 4,
 "nbformat_minor": 2
}
