{
 "cells": [
  {
   "cell_type": "code",
   "execution_count": 304,
   "metadata": {},
   "outputs": [],
   "source": [
    "from bs4 import BeautifulSoup as bf\n",
    "import requests\n",
    "import shutil\n",
    "import re"
   ]
  },
  {
   "cell_type": "code",
   "execution_count": 305,
   "metadata": {},
   "outputs": [],
   "source": [
    "url = 'https://www.google.com/search?q=Bawang+Merah+satuan&tbm=isch&hl=id&chips=q:bawang+merah+satuan,online_chips:nama+ilmiah:UGGZ6Xnwe6U%3D,online_chips:manfaat+bawang:Fr4HY4M1SX0%3D,online_chips:allium+cepa:P9fA7rWC3iY%3D&sa=X&ved=2ahUKEwipyfiv7O_-AhVt-XMBHZbcBSoQ4lYoAXoECAEQNA&biw=1905&bih=969'\n",
    "\n",
    "resp = requests.get(url)\n",
    "resUrl = bf(resp.content, 'html.parser')\n"
   ]
  },
  {
   "cell_type": "code",
   "execution_count": 306,
   "metadata": {},
   "outputs": [],
   "source": [
    "img_url =resUrl.find_all('img')\n"
   ]
  },
  {
   "cell_type": "code",
   "execution_count": 307,
   "metadata": {},
   "outputs": [],
   "source": [
    "img_src = []\n",
    "\n",
    "for i in img_url :\n",
    "    img_src.append(i.get('src'))"
   ]
  },
  {
   "cell_type": "code",
   "execution_count": 308,
   "metadata": {},
   "outputs": [],
   "source": [
    "def download(image):\n",
    "    respond = requests.get(image, stream=True)\n",
    "    relname = ''.join(e for e in image if e.isalnum())\n",
    "    \n",
    "    file = open(\"Bawang Merah/{}.jpg\".format(relname), 'wb')\n",
    "    \n",
    "    respond.raw.decode_content = True\n",
    "    shutil.copyfileobj(respond.raw, file)\n",
    "    \n",
    "    del respond"
   ]
  },
  {
   "cell_type": "code",
   "execution_count": 309,
   "metadata": {},
   "outputs": [],
   "source": [
    "for s in img_src[1:]:\n",
    "    download(s)\n",
    "    "
   ]
  },
  {
   "cell_type": "code",
   "execution_count": 310,
   "metadata": {},
   "outputs": [
    {
     "data": {
      "text/plain": [
       "['https://encrypted-tbn0.gstatic.com/images?q=tbn:ANd9GcRF-Zv5yT5ldBXp1dP5deGAlPvuIplNsSN0t7UAxP1pLT-R9Ysu8o-W-Bcu_Q&s',\n",
       " 'https://encrypted-tbn0.gstatic.com/images?q=tbn:ANd9GcQmQdxSNlyWp7Ah8wyLP7YLWpf7dzJWEjB-zBZAcAVZjg0BBs1icj6ccrFAlQc&s',\n",
       " 'https://encrypted-tbn0.gstatic.com/images?q=tbn:ANd9GcTr3bPJhfCiuiPAPkznIPnOGrdBbOBaetYhT3-pDUGpuJsYA7nKAKplnQv0sIw&s',\n",
       " 'https://encrypted-tbn0.gstatic.com/images?q=tbn:ANd9GcRZLfkpOOl5WSrN23OX1g_lJofL6yDPNKQKKOhTpslj_-U41sBC7BYS-ICkomo&s',\n",
       " 'https://encrypted-tbn0.gstatic.com/images?q=tbn:ANd9GcQIAGQUKaNPvTkoue5il2rfQlMk7jQLW-4Fn-P3WPWAWpnl4lEtuXALyeASdB8&s',\n",
       " 'https://encrypted-tbn0.gstatic.com/images?q=tbn:ANd9GcQ4-gOWJDKgjswtzeMgMbCENUzjQaFwSTyIQLDnjUbRrQd__jCaspdYukogDG0&s',\n",
       " 'https://encrypted-tbn0.gstatic.com/images?q=tbn:ANd9GcTw29mYhYzRc5mHxH_LsXaeXk420OA4uEIKA4TW4Q0aF9ydUBGC0_II9MK_LQ&s',\n",
       " 'https://encrypted-tbn0.gstatic.com/images?q=tbn:ANd9GcRqLtKAsanVAnegPyiynxOen0rxCUgnavG1Lm2Hw86FibULlruJHeM1oZ1c0g&s',\n",
       " 'https://encrypted-tbn0.gstatic.com/images?q=tbn:ANd9GcTjPwreuX5eQwv1Pyjx7WqoFF1JEZMIy1k42ufedbKY1609-F8CReCe4C2q7g&s',\n",
       " 'https://encrypted-tbn0.gstatic.com/images?q=tbn:ANd9GcSONyXRK0wFOrR9yi0nGOWiqaTQ5w3sfqZLgBbwslDpv2K8aCB_JtupWzZoy1I&s',\n",
       " 'https://encrypted-tbn0.gstatic.com/images?q=tbn:ANd9GcRTB0WXykp1BR0fAiqQyCXh6TZdMwrTUnJPSltLgISNDhBdDzpY08KBkjem3Q&s',\n",
       " 'https://encrypted-tbn0.gstatic.com/images?q=tbn:ANd9GcQf8ZrVfompMIurf5LUGFTznlfUKTTJrqLaMhvbdvtkoCvw2_ZDwXZR6whcJuE&s',\n",
       " 'https://encrypted-tbn0.gstatic.com/images?q=tbn:ANd9GcTxbmdlF6LqXfpjjvgRpwYxx45nM-sGghIDJx_LQMmxFMapSEcdLSWMp0UYRg&s',\n",
       " 'https://encrypted-tbn0.gstatic.com/images?q=tbn:ANd9GcTjWcKhwS_idOWixqsWlpHCp71eXliL8qYKfFvg-KuUVE0I2s-NgHFjhCTk7A&s',\n",
       " 'https://encrypted-tbn0.gstatic.com/images?q=tbn:ANd9GcRFsK65WhnVAfg6sxVZMKlr_LDLaQDDBMnVzTINc8_BUQSPtQfcOrmikTU77Do&s',\n",
       " 'https://encrypted-tbn0.gstatic.com/images?q=tbn:ANd9GcRf00iXlcoaDlfJYMogW9fGefjxgMCI_24g8YNfdcLC_MFPNbEx93nKBI-8uA&s',\n",
       " 'https://encrypted-tbn0.gstatic.com/images?q=tbn:ANd9GcQWrxq_OBlh1dC2n_3H02mJKeLDTGdnApRf0ZYrU84Y9YLkoj9dpU3VfHtbWg&s',\n",
       " 'https://encrypted-tbn0.gstatic.com/images?q=tbn:ANd9GcQsZCyv92LBU0jmBHg05rVIeNCDyjd54YGiQpUhy_NGcg90-Hga6LpMxiseRKM&s',\n",
       " 'https://encrypted-tbn0.gstatic.com/images?q=tbn:ANd9GcTJ5zXIMndfJXbQSwiL3Hp41JzuvdN1jqWd76psoetLWNMsHbaNeGJKjDzm_Q&s',\n",
       " 'https://encrypted-tbn0.gstatic.com/images?q=tbn:ANd9GcT9JejtoBhbUD_ScZX2GAdBbp8tWifhFMTtbPhi1AxOZAYeRGBWXaFr9p9xdQ&s']"
      ]
     },
     "execution_count": 310,
     "metadata": {},
     "output_type": "execute_result"
    }
   ],
   "source": [
    "img_src[1:]\n",
    "      "
   ]
  }
 ],
 "metadata": {
  "kernelspec": {
   "display_name": "Python 3",
   "language": "python",
   "name": "python3"
  },
  "language_info": {
   "codemirror_mode": {
    "name": "ipython",
    "version": 3
   },
   "file_extension": ".py",
   "mimetype": "text/x-python",
   "name": "python",
   "nbconvert_exporter": "python",
   "pygments_lexer": "ipython3",
   "version": "3.10.9"
  },
  "orig_nbformat": 4
 },
 "nbformat": 4,
 "nbformat_minor": 2
}
